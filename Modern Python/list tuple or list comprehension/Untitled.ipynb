{
 "cells": [
  {
   "cell_type": "markdown",
   "id": "08b4b654-b7cc-45a8-aab6-4512c0ee6c2c",
   "metadata": {},
   "source": [
    "#Iteration"
   ]
  },
  {
   "cell_type": "code",
   "execution_count": 1,
   "id": "414e99d7-6551-450b-9786-61518c13f445",
   "metadata": {},
   "outputs": [
    {
     "name": "stdout",
     "output_type": "stream",
     "text": [
      "teacher name is Imran\n",
      "teacher name is irfan\n",
      "teacher name is yusuf\n",
      "teacher name is usman\n"
     ]
    }
   ],
   "source": [
    "teacher_name:list[str]=[\"Imran\",\"irfan\",\"yusuf\",\"usman\"]\n",
    "i:int=0\n",
    "while i<len(teacher_name):\n",
    "    print(f'teacher name is {teacher_name[i]}')\n",
    "    i+=1"
   ]
  },
  {
   "cell_type": "code",
   "execution_count": 4,
   "id": "b4e70191-4119-4da0-974f-f94a9292e0aa",
   "metadata": {},
   "outputs": [
    {
     "name": "stdin",
     "output_type": "stream",
     "text": [
      "ENter your username as\n",
      "ENter your password 2\n"
     ]
    },
    {
     "name": "stdout",
     "output_type": "stream",
     "text": [
      "Invalid Account\n",
      "It is not the part of \"for\" and \"if\" block\n"
     ]
    }
   ],
   "source": [
    "data:list[tuple[str,int]]=[(\"ALi\",23),(\"Yusuf\",34),(\"Imran\",67),(\"Wasif\",98)]\n",
    "input_user:str=input(\"ENter your username\")\n",
    "input_id=int(input(\"ENter your password\"))\n",
    "for i in data:\n",
    "    user,password=(i)\n",
    "    if(input_user==user and input_id==password):\n",
    "        print(f'the name of user is {user} and password of user is {password}')\n",
    "        break\n",
    "else:\n",
    "    print(\"Invalid Account\")  #If loop breaks then else block of \"for loop\"  will be executed\n",
    "print(f'It is not the part of \"for\" and \"if\" block')"
   ]
  },
  {
   "cell_type": "raw",
   "id": "a0bea5e6-e9cf-4613-8e66-2b29b6c7f5db",
   "metadata": {},
   "source": [
    "#Range\n",
    "*range(start,end,step)"
   ]
  },
  {
   "cell_type": "code",
   "execution_count": 6,
   "id": "b390d2e4-ebd9-4564-b50a-9805ef795e3c",
   "metadata": {},
   "outputs": [
    {
     "data": {
      "text/plain": [
       "range(0, 10)"
      ]
     },
     "execution_count": 6,
     "metadata": {},
     "output_type": "execute_result"
    }
   ],
   "source": [
    "range(10)"
   ]
  },
  {
   "cell_type": "code",
   "execution_count": 7,
   "id": "4c2d8668-91c1-410f-9c3f-7cacd02ae7e7",
   "metadata": {},
   "outputs": [
    {
     "data": {
      "text/plain": [
       "[0, 1, 2, 3, 4, 5, 6, 7, 8, 9]"
      ]
     },
     "execution_count": 7,
     "metadata": {},
     "output_type": "execute_result"
    }
   ],
   "source": [
    "list(range(10))"
   ]
  },
  {
   "cell_type": "code",
   "execution_count": 10,
   "id": "c747fd09-a025-4837-9bfd-6961eacb79a0",
   "metadata": {},
   "outputs": [
    {
     "name": "stdout",
     "output_type": "stream",
     "text": [
      "2 X 1 = 2\n",
      "2 X 2 = 4\n",
      "2 X 3 = 6\n",
      "2 X 4 = 8\n",
      "2 X 5 = 10\n",
      "2 X 6 = 12\n",
      "2 X 7 = 14\n",
      "2 X 8 = 16\n",
      "2 X 9 = 18\n"
     ]
    }
   ],
   "source": [
    "#table of 2\n",
    "for i in range(1,10,1):\n",
    "    print(f'2 X {i} = {i*2}')"
   ]
  },
  {
   "cell_type": "code",
   "execution_count": 28,
   "id": "6b46ef3f-7c2c-4df1-89c8-c198e9ee4093",
   "metadata": {},
   "outputs": [
    {
     "data": {
      "text/plain": [
       "['Imran', 'irfan', 'yusuf', 'usman']"
      ]
     },
     "metadata": {},
     "output_type": "display_data"
    },
    {
     "name": "stdout",
     "output_type": "stream",
     "text": [
      "(0, 'Imran')\n",
      "(1, 'irfan')\n",
      "(2, 'yusuf')\n",
      "(3, 'usman')\n"
     ]
    },
    {
     "data": {
      "text/plain": [
       "[('ALi', 23), ('Yusuf', 34), ('Imran', 67), ('Wasif', 98)]"
      ]
     },
     "metadata": {},
     "output_type": "display_data"
    },
    {
     "name": "stdout",
     "output_type": "stream",
     "text": [
      "0 ('ALi', 23)\n",
      "1 ('Yusuf', 34)\n",
      "2 ('Imran', 67)\n",
      "3 ('Wasif', 98)\n",
      "ALi 23\n",
      "Yusuf 34\n",
      "Imran 67\n",
      "Wasif 98\n"
     ]
    }
   ],
   "source": [
    "# enumerate() generator function\n",
    "display(teacher_name)\n",
    "for i in enumerate(teacher_name):\n",
    "    print(i)\n",
    "display(data)\n",
    "for i,v in enumerate(data):\n",
    "    print(i,v)\n",
    "for i,v in data:\n",
    "    print(i,v)"
   ]
  },
  {
   "cell_type": "markdown",
   "id": "5dbcfe02-1738-4251-b31d-b579457f2294",
   "metadata": {},
   "source": [
    "#List Comprehension"
   ]
  },
  {
   "cell_type": "code",
   "execution_count": 30,
   "id": "6439dbb5-0542-4ef6-886f-b88db8203508",
   "metadata": {},
   "outputs": [
    {
     "data": {
      "text/plain": [
       "[1, 4, 9, 16]"
      ]
     },
     "execution_count": 30,
     "metadata": {},
     "output_type": "execute_result"
    }
   ],
   "source": [
    "a:list[int]=[]\n",
    "for i in range(1,5,1):\n",
    "    square=i**2\n",
    "    a.append(square)\n",
    "a"
   ]
  },
  {
   "cell_type": "code",
   "execution_count": 32,
   "id": "68bf435b-75f6-4d96-9ddb-718245e283e2",
   "metadata": {},
   "outputs": [
    {
     "data": {
      "text/plain": [
       "[1, 4, 9, 16]"
      ]
     },
     "execution_count": 32,
     "metadata": {},
     "output_type": "execute_result"
    }
   ],
   "source": [
    "[i**2 for i in range(1,5,1)]"
   ]
  },
  {
   "cell_type": "code",
   "execution_count": 40,
   "id": "e1f329a9-193b-4316-98d9-cf78e7cef3dc",
   "metadata": {},
   "outputs": [
    {
     "data": {
      "text/plain": [
       "[1, 4, 9, 16, 25, 36]"
      ]
     },
     "metadata": {},
     "output_type": "display_data"
    },
    {
     "data": {
      "text/plain": [
       "1"
      ]
     },
     "metadata": {},
     "output_type": "display_data"
    },
    {
     "data": {
      "text/plain": [
       "36"
      ]
     },
     "metadata": {},
     "output_type": "display_data"
    },
    {
     "data": {
      "text/plain": [
       "91"
      ]
     },
     "metadata": {},
     "output_type": "display_data"
    }
   ],
   "source": [
    "# min\n",
    "# max\n",
    "# sum\n",
    "integer:list[int]=[i**2 for i in range(1,7,1)]\n",
    "display(integer)\n",
    "display(min(integer))\n",
    "display(max(integer))\n",
    "display(sum(integer))"
   ]
  },
  {
   "cell_type": "code",
   "execution_count": 45,
   "id": "f464da13-692f-4567-ab7c-b6f46c1b19cd",
   "metadata": {},
   "outputs": [
    {
     "data": {
      "text/plain": [
       "[1, 4, 9, 16, 25, 36]"
      ]
     },
     "metadata": {},
     "output_type": "display_data"
    },
    {
     "data": {
      "text/plain": [
       "[1, 4, 9, 16, 25, 36]"
      ]
     },
     "metadata": {},
     "output_type": "display_data"
    },
    {
     "data": {
      "text/plain": [
       "[5444, 4, 9, 16, 25, 36]"
      ]
     },
     "metadata": {},
     "output_type": "display_data"
    },
    {
     "data": {
      "text/plain": [
       "[1, 4, 9, 16, 25, 36]"
      ]
     },
     "metadata": {},
     "output_type": "display_data"
    }
   ],
   "source": [
    "int2=integer[:] #deep copy,make indivisual object copy,it is because of slicing\n",
    "display(int2)\n",
    "display(integer)\n",
    "int2[0]=5444\n",
    "display(int2)\n",
    "display(integer)"
   ]
  },
  {
   "cell_type": "markdown",
   "id": "e1e8cb10-73f3-485c-90ad-a09ca6f09b6f",
   "metadata": {},
   "source": [
    "Tuple"
   ]
  },
  {
   "cell_type": "code",
   "execution_count": 52,
   "id": "2d873eec-1535-4d7c-bf71-158bbf3a1b07",
   "metadata": {},
   "outputs": [
    {
     "data": {
      "text/plain": [
       "('Talha', 'Joiya', 'ALi')"
      ]
     },
     "metadata": {},
     "output_type": "display_data"
    },
    {
     "data": {
      "text/plain": [
       "('Joiya', 'ALi')"
      ]
     },
     "metadata": {},
     "output_type": "display_data"
    },
    {
     "data": {
      "text/plain": [
       "('ALi', 'Joiya')"
      ]
     },
     "metadata": {},
     "output_type": "display_data"
    }
   ],
   "source": [
    "# tuple is immutable and we can only slice it\n",
    "tuple_arr:tuple[str]=(\"Talha\",\"Joiya\",\"ALi\")\n",
    "display(tuple_arr[:])\n",
    "display(tuple_arr[1:3])\n",
    "display(tuple_arr[-1:-3:-1])"
   ]
  },
  {
   "cell_type": "code",
   "execution_count": 53,
   "id": "0fdc319b-0d75-4fb8-82c9-74c91f47ed1f",
   "metadata": {},
   "outputs": [
    {
     "ename": "TypeError",
     "evalue": "'tuple' object does not support item assignment",
     "output_type": "error",
     "traceback": [
      "\u001b[1;31m---------------------------------------------------------------------------\u001b[0m",
      "\u001b[1;31mTypeError\u001b[0m                                 Traceback (most recent call last)",
      "Cell \u001b[1;32mIn[53], line 1\u001b[0m\n\u001b[1;32m----> 1\u001b[0m \u001b[43mtuple_arr\u001b[49m\u001b[43m[\u001b[49m\u001b[38;5;241;43m0\u001b[39;49m\u001b[43m]\u001b[49m\u001b[38;5;241m=\u001b[39m\u001b[38;5;124m\"\u001b[39m\u001b[38;5;124mPakistan\u001b[39m\u001b[38;5;124m\"\u001b[39m\n",
      "\u001b[1;31mTypeError\u001b[0m: 'tuple' object does not support item assignment"
     ]
    }
   ],
   "source": [
    "tuple_arr[0]=\"Pakistan\""
   ]
  },
  {
   "cell_type": "code",
   "execution_count": 60,
   "id": "b06d6f15-1c66-4704-8343-e3f05654c940",
   "metadata": {},
   "outputs": [
    {
     "data": {
      "text/plain": [
       "['Joiya', [3, 5, 6, 33434], 23]"
      ]
     },
     "execution_count": 60,
     "metadata": {},
     "output_type": "execute_result"
    }
   ],
   "source": [
    "from typing import Any\n",
    "tupledata:list[Any]=[\"Joiya\",[3,5,6],23]\n",
    "tupledata[1].append(33434) #this is object not tuple\n",
    "tupledata"
   ]
  },
  {
   "cell_type": "code",
   "execution_count": null,
   "id": "6ce303fa-66f2-4ea1-970b-9c30f6db60a5",
   "metadata": {},
   "outputs": [],
   "source": []
  }
 ],
 "metadata": {
  "kernelspec": {
   "display_name": "Python 3 (ipykernel)",
   "language": "python",
   "name": "python3"
  },
  "language_info": {
   "codemirror_mode": {
    "name": "ipython",
    "version": 3
   },
   "file_extension": ".py",
   "mimetype": "text/x-python",
   "name": "python",
   "nbconvert_exporter": "python",
   "pygments_lexer": "ipython3",
   "version": "3.12.0"
  }
 },
 "nbformat": 4,
 "nbformat_minor": 5
}

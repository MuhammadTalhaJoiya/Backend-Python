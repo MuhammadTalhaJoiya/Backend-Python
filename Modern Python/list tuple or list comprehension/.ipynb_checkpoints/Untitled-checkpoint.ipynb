{
 "cells": [
  {
   "cell_type": "markdown",
   "id": "08b4b654-b7cc-45a8-aab6-4512c0ee6c2c",
   "metadata": {},
   "source": [
    "#Iteration"
   ]
  },
  {
   "cell_type": "code",
   "execution_count": 36,
   "id": "414e99d7-6551-450b-9786-61518c13f445",
   "metadata": {},
   "outputs": [
    {
     "name": "stdout",
     "output_type": "stream",
     "text": [
      "teacher name is Imran\n",
      "teacher name is irfan\n",
      "teacher name is yusuf\n",
      "teacher name is usman\n"
     ]
    }
   ],
   "source": [
    "teacher_name:list[str]=[\"Imran\",\"irfan\",\"yusuf\",\"usman\"]\n",
    "i:int=0\n",
    "while i<len(teacher_name):\n",
    "    print(f'teacher name is {teacher_name[i]}')\n",
    "    i+=1"
   ]
  },
  {
   "cell_type": "code",
   "execution_count": 37,
   "id": "b4e70191-4119-4da0-974f-f94a9292e0aa",
   "metadata": {},
   "outputs": [
    {
     "name": "stdin",
     "output_type": "stream",
     "text": [
      "ENter your username ALi1\n",
      "ENter your password 2\n"
     ]
    },
    {
     "name": "stdout",
     "output_type": "stream",
     "text": [
      "Invalid Account\n",
      "It is not the part of \"for\" and \"if\" block\n"
     ]
    }
   ],
   "source": [
    "data:list[tuple[str,int]]=[(\"ALi\",23),(\"Yusuf\",34),(\"Imran\",67),(\"Wasif\",98)]\n",
    "input_user:str=input(\"ENter your username\")\n",
    "input_id=int(input(\"ENter your password\"))\n",
    "for i in data:\n",
    "    user,password=(i)\n",
    "    if(input_user==user and input_id==password):\n",
    "        print(f'the name of user is {user} and password of user is {password}')\n",
    "        break\n",
    "else:\n",
    "    print(\"Invalid Account\")  #If loop breaks then else block of \"for loop\"  will be executed\n",
    "print(f'It is not the part of \"for\" and \"if\" block')"
   ]
  },
  {
   "cell_type": "code",
   "execution_count": null,
   "id": "2e67433f-179a-45c7-a774-f3ad87e054d4",
   "metadata": {},
   "outputs": [],
   "source": []
  }
 ],
 "metadata": {
  "kernelspec": {
   "display_name": "Python 3 (ipykernel)",
   "language": "python",
   "name": "python3"
  },
  "language_info": {
   "codemirror_mode": {
    "name": "ipython",
    "version": 3
   },
   "file_extension": ".py",
   "mimetype": "text/x-python",
   "name": "python",
   "nbconvert_exporter": "python",
   "pygments_lexer": "ipython3",
   "version": "3.12.0"
  }
 },
 "nbformat": 4,
 "nbformat_minor": 5
}

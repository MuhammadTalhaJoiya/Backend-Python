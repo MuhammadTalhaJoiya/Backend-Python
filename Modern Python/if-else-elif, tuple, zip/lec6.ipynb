{
 "cells": [
  {
   "cell_type": "code",
   "execution_count": 67,
   "id": "e13686c7-218d-42ab-b199-a9830ecb76d0",
   "metadata": {},
   "outputs": [],
   "source": [
    "##if else elif\n",
    "# if(condition):\n",
    "#     body\n",
    "# elif(condition):\n",
    "#     body\n",
    "# else:\n",
    "#     body"
   ]
  },
  {
   "cell_type": "code",
   "execution_count": 68,
   "id": "6eeca22f-559c-487f-be0f-e4a2c3b75858",
   "metadata": {},
   "outputs": [],
   "source": [
    "##comprehensive if else\n",
    "# true if logic else false"
   ]
  },
  {
   "cell_type": "code",
   "execution_count": 69,
   "id": "cd006d08-be39-4a07-afe1-d9c065b7865d",
   "metadata": {},
   "outputs": [
    {
     "name": "stdout",
     "output_type": "stream",
     "text": [
      "Pakistan Zindabad\n"
     ]
    }
   ],
   "source": [
    "if True:\n",
    "    print(\"Pakistan Zindabad\")\n",
    "else:\n",
    "    print(\"Pak Fojj Zindabad\")"
   ]
  },
  {
   "cell_type": "code",
   "execution_count": 70,
   "id": "37f3028c-9a0d-4e7c-934d-8091dd9742d7",
   "metadata": {},
   "outputs": [
    {
     "data": {
      "text/plain": [
       "'Pak Fojj Zindabad'"
      ]
     },
     "execution_count": 70,
     "metadata": {},
     "output_type": "execute_result"
    }
   ],
   "source": [
    "\"Pakistan Zindabad\" if False else \"Pak Fojj Zindabad\""
   ]
  },
  {
   "cell_type": "code",
   "execution_count": 71,
   "id": "a85db74e-93fc-4c87-b8f4-aa71a44d8e07",
   "metadata": {},
   "outputs": [
    {
     "data": {
      "text/plain": [
       "'Pakistan Zindabad'"
      ]
     },
     "execution_count": 71,
     "metadata": {},
     "output_type": "execute_result"
    }
   ],
   "source": [
    "\"Pakistan Zindabad\" if True else \"Pak Fojj Zindabad\""
   ]
  },
  {
   "cell_type": "code",
   "execution_count": 72,
   "id": "9679a22a",
   "metadata": {},
   "outputs": [
    {
     "name": "stdout",
     "output_type": "stream",
     "text": [
      "1\n",
      "2\n"
     ]
    }
   ],
   "source": [
    "\n",
    "if False:\n",
    "    print(\"True Pakistan block\")\n",
    "\n",
    "print(\"1\")\n",
    "print(\"2\")"
   ]
  },
  {
   "cell_type": "code",
   "execution_count": 73,
   "id": "c4eb443f",
   "metadata": {},
   "outputs": [
    {
     "name": "stdout",
     "output_type": "stream",
     "text": [
      "True Pakistan block\n",
      "1\n",
      "2\n"
     ]
    }
   ],
   "source": [
    "if True:\n",
    "    print(\"True Pakistan block\")\n",
    "\n",
    "print(\"1\")\n",
    "print(\"2\")"
   ]
  },
  {
   "cell_type": "code",
   "execution_count": 74,
   "id": "9be8617a",
   "metadata": {},
   "outputs": [
    {
     "name": "stdout",
     "output_type": "stream",
     "text": [
      "elif logic1\n"
     ]
    }
   ],
   "source": [
    "if False:\n",
    "    print(\"True_block\")\n",
    "elif True:\n",
    "    print(\"elif logic1\")\n",
    "elif False:\n",
    "    print(\"elif logic2\")\n",
    "elif False:\n",
    "    print(\"elif logic3\")\n",
    "else:\n",
    "    print(\"final else block\")"
   ]
  },
  {
   "cell_type": "code",
   "execution_count": 75,
   "id": "00f07200",
   "metadata": {},
   "outputs": [
    {
     "name": "stdout",
     "output_type": "stream",
     "text": [
      "True_block\n"
     ]
    }
   ],
   "source": [
    "\n",
    "if True:\n",
    "    print(\"True_block\")\n",
    "elif False:\n",
    "    print(\"elif logic1\")\n",
    "elif False:\n",
    "    print(\"elif logic2\")\n",
    "elif False:\n",
    "    print(\"elif logic3\")\n",
    "else:\n",
    "    print(\"final else block\")"
   ]
  },
  {
   "cell_type": "code",
   "execution_count": 76,
   "id": "79263512-9c8a-485c-a6a0-391cfbe6e03b",
   "metadata": {},
   "outputs": [
    {
     "name": "stdout",
     "output_type": "stream",
     "text": [
      "elif logic2\n",
      "final else block\n",
      "Pakistan\n"
     ]
    }
   ],
   "source": [
    "# chain1 run only one block \n",
    "if False:\n",
    "    print(\"True_block\")\n",
    "elif False:\n",
    "    print(\"elif logic1\")\n",
    "elif True:\n",
    "    print(\"elif logic2\")\n",
    "elif True:\n",
    "    print(\"elif logic3\")\n",
    "else:\n",
    "    print(\"final else block\")\n",
    "\n",
    "# chain2 run only one block \n",
    "if False:\n",
    "    print(\"True_block\")\n",
    "elif False:\n",
    "    print(\"elif logic1\")\n",
    "elif False:\n",
    "    print(\"elif logic2\")\n",
    "elif False:\n",
    "    print(\"elif logic3\")\n",
    "else:\n",
    "    print(\"final else block\")\n",
    "\n",
    "print(\"Pakistan\")"
   ]
  },
  {
   "cell_type": "code",
   "execution_count": 86,
   "id": "a868d033",
   "metadata": {},
   "outputs": [
    {
     "name": "stdout",
     "output_type": "stream",
     "text": [
      "per is 33.0 and grade is None\n"
     ]
    }
   ],
   "source": [
    "from typing import Union,Optional\n",
    "per:Union[int,float]=float(input(\"Enter your percentage\"))\n",
    "grade:Union[str]=None\n",
    "if(per>=80 and per<=100):\n",
    "    grade=\"A+\"\n",
    "elif(per>=70 and per<80):\n",
    "    grade=\"A\"\n",
    "elif(per>=60 and per<70):\n",
    "    grade=\"B\"\n",
    "elif(per>=50 and per<60):\n",
    "    grade=\"C\"\n",
    "# elif(per<50):\n",
    "#     grade=\"Fail\"\n",
    "else:\n",
    "    grade\n",
    "print(f\"per is {per} and grade is {grade}\")"
   ]
  },
  {
   "cell_type": "code",
   "execution_count": 87,
   "id": "71ec80eb",
   "metadata": {},
   "outputs": [
    {
     "name": "stdout",
     "output_type": "stream",
     "text": [
      "Prefix not recognized.\n"
     ]
    }
   ],
   "source": [
    "# Example of Optional \n",
    "from typing import Optional\n",
    "\n",
    "def get_name(prefix: str) -> Optional[str]:\n",
    "    if prefix == 'Mr':\n",
    "        return 'John'\n",
    "    elif prefix == 'Mrs':\n",
    "        return 'Jane'\n",
    "    else:\n",
    "        return None\n",
    "\n",
    "prefix = input(\"Enter prefix (Mr/Mrs): \")\n",
    "\n",
    "name = get_name(prefix)\n",
    "if name is not None:\n",
    "    print(f\"Name: {name}\")\n",
    "else:\n",
    "    print(\"Prefix not recognized.\")"
   ]
  },
  {
   "cell_type": "code",
   "execution_count": 26,
   "id": "b5817f73",
   "metadata": {},
   "outputs": [
    {
     "name": "stdout",
     "output_type": "stream",
     "text": [
      "[66, 77, 99, 33]\n",
      "['B', 'A', 'A+', 'F']\n"
     ]
    },
    {
     "data": {
      "text/plain": [
       "<zip at 0x1ca0f6db4c0>"
      ]
     },
     "execution_count": 26,
     "metadata": {},
     "output_type": "execute_result"
    }
   ],
   "source": [
    "from typing import Union,Optional\n",
    "per_list:list[int]=[66,77,99,33]\n",
    "grade:list[str]=[]\n",
    "# grade:list[Union[str|None]]=[]\n",
    "# grade:list[Optional[str]]=[]\n",
    "for per in per_list:\n",
    "    if(per>=80 and per<=100):\n",
    "        grade.append(\"A+\")\n",
    "    elif(per>=70 and per<80):\n",
    "        grade.append(\"A\")\n",
    "    elif(per>=60 and per<70):\n",
    "        grade.append(\"B\")\n",
    "    elif(per>=50 and per<60):\n",
    "        grade.append(\"C\")\n",
    "    else:\n",
    "        grade.append(\"F\")\n",
    "print(per_list)   \n",
    "print(grade)\n",
    "zip(per_list,grade) # <zip at 0x10c2c00c0> generator function iteration perform->list, for"
   ]
  },
  {
   "cell_type": "code",
   "execution_count": 35,
   "id": "86857886",
   "metadata": {},
   "outputs": [
    {
     "data": {
      "text/plain": [
       "[(66, 'B', 0), (77, 'A', 1), (99, 'A+', 2), (33, 'F', 3)]"
      ]
     },
     "execution_count": 35,
     "metadata": {},
     "output_type": "execute_result"
    }
   ],
   "source": [
    "db=list(zip(per_list,grade,list(range(len(per_list)))))\n",
    "db"
   ]
  },
  {
   "cell_type": "code",
   "execution_count": 39,
   "metadata": {},
   "outputs": [
    {
     "data": {
      "text/plain": [
       "[(66, 'B', 0), (77, 'A', 1), (99, 'A+', 2), (33, 'F', 3)]"
      ]
     },
     "metadata": {},
     "output_type": "display_data"
    },
    {
     "data": {
      "text/plain": [
       "[(33, 'F', 3), (66, 'B', 0), (77, 'A', 1), (99, 'A+', 2)]"
      ]
     },
     "metadata": {},
     "output_type": "display_data"
    }
   ],
   "source": [
    "display(db)\n",
    "display(sorted(db,key=lambda x:x[0]))"
   ]
  },
  {
   "cell_type": "code",
   "execution_count": 40,
   "id": "4f1e623d",
   "metadata": {},
   "outputs": [
    {
     "data": {
      "text/plain": [
       "[(99, 'A+', 2), (77, 'A', 1), (66, 'B', 0), (33, 'F', 3)]"
      ]
     },
     "metadata": {},
     "output_type": "display_data"
    }
   ],
   "source": [
    "display(sorted(db,key=lambda x:x[0],reverse=True))"
   ]
  },
  {
   "cell_type": "code",
   "execution_count": 41,
   "id": "dbae1fc7",
   "metadata": {},
   "outputs": [
    {
     "name": "stdout",
     "output_type": "stream",
     "text": [
      "Audi\n",
      "BMW\n",
      "Subaru\n",
      "Toyota\n"
     ]
    }
   ],
   "source": [
    "cars : list[str] = ['audi', 'bmw', 'subaru', 'toyota']\n",
    "for car in cars:\n",
    "    if car == 'bmw':\n",
    "     print(car.upper())\n",
    "    else:\n",
    "     print(car.title())"
   ]
  },
  {
   "cell_type": "code",
   "execution_count": 42,
   "id": "a8d4c994",
   "metadata": {},
   "outputs": [
    {
     "name": "stdout",
     "output_type": "stream",
     "text": [
      "toyota\n"
     ]
    },
    {
     "data": {
      "text/plain": [
       "False"
      ]
     },
     "execution_count": 42,
     "metadata": {},
     "output_type": "execute_result"
    }
   ],
   "source": [
    "print(car)\n",
    "car == 'bmw'"
   ]
  },
  {
   "cell_type": "code",
   "execution_count": 43,
   "id": "c2a9ffdd",
   "metadata": {},
   "outputs": [
    {
     "data": {
      "text/plain": [
       "True"
      ]
     },
     "execution_count": 43,
     "metadata": {},
     "output_type": "execute_result"
    }
   ],
   "source": [
    "car = 'Audi'\n",
    "car.lower() == 'audi'"
   ]
  },
  {
   "cell_type": "code",
   "execution_count": 49,
   "id": "03cc05a4",
   "metadata": {},
   "outputs": [
    {
     "data": {
      "text/plain": [
       "['Audi', 'BMW', 'Subaru', 'Toyota']"
      ]
     },
     "execution_count": 49,
     "metadata": {},
     "output_type": "execute_result"
    }
   ],
   "source": [
    "cars : list[str] = ['audi', 'bmw', 'subaru', 'toyota']\n",
    "[i.upper() if i==\"bmw\" else i.title() for i in cars]"
   ]
  },
  {
   "cell_type": "code",
   "execution_count": 50,
   "id": "e33e8f93",
   "metadata": {},
   "outputs": [
    {
     "name": "stdout",
     "output_type": "stream",
     "text": [
      "AUDI\n",
      "BMW\n",
      "mehran\n",
      "SUBARU\n",
      "TOYOTA\n"
     ]
    }
   ],
   "source": [
    "cars : list[str] = ['audi', 'bmw',\"Mehran\", 'subaru', 'toyota']\n",
    "\n",
    "for car in cars: # in = extract element from iterated types \n",
    "    if car != 'Mehran':\n",
    "        print(car.upper())\n",
    "    else:\n",
    "        print(car.lower())"
   ]
  },
  {
   "cell_type": "code",
   "execution_count": 51,
   "id": "df0bfc4e",
   "metadata": {},
   "outputs": [
    {
     "name": "stdout",
     "output_type": "stream",
     "text": [
      "That is not the correct answer. Please try again!\n"
     ]
    }
   ],
   "source": [
    "answer = 17\n",
    "if answer != 42:\n",
    "    print(\"That is not the correct answer. Please try again!\")"
   ]
  },
  {
   "cell_type": "code",
   "execution_count": 52,
   "id": "b3f59c42",
   "metadata": {},
   "outputs": [
    {
     "data": {
      "text/plain": [
       "False"
      ]
     },
     "execution_count": 52,
     "metadata": {},
     "output_type": "execute_result"
    }
   ],
   "source": [
    "cars : list[str] = ['audi', 'bmw',\"Mehran\", 'subaru', 'toyota']\n",
    "\n",
    "'changan' in cars"
   ]
  },
  {
   "cell_type": "code",
   "execution_count": 53,
   "id": "d603f768",
   "metadata": {},
   "outputs": [
    {
     "data": {
      "text/plain": [
       "True"
      ]
     },
     "execution_count": 53,
     "metadata": {},
     "output_type": "execute_result"
    }
   ],
   "source": [
    "cars : list[str] = ['audi', 'bmw',\"Mehran\", 'subaru', 'toyota']\n",
    "\n",
    "'bmw' in cars # True"
   ]
  },
  {
   "cell_type": "code",
   "execution_count": 54,
   "id": "44b1aeb9",
   "metadata": {},
   "outputs": [
    {
     "name": "stdout",
     "output_type": "stream",
     "text": [
      "True\n",
      "Marie, you can post a response if you wish.\n"
     ]
    }
   ],
   "source": [
    "banned_users : list[str] = ['andrew', 'carolina', 'david']\n",
    "user : str = 'marie'\n",
    "\n",
    "print(user not in banned_users)\n",
    "\n",
    "if user not in banned_users:\n",
    "    print(f\"{user.title()}, you can post a response if you wish.\")"
   ]
  },
  {
   "cell_type": "code",
   "execution_count": 55,
   "id": "31e52a63",
   "metadata": {},
   "outputs": [
    {
     "name": "stdout",
     "output_type": "stream",
     "text": [
      "Sorry, you are too young to vote.\n",
      "Please register to vote as soon as you turn 18!\n"
     ]
    }
   ],
   "source": [
    "age: int = 17\n",
    "if age >= 18:\n",
    "    print(\"You are old enough to vote!\") \n",
    "    print(\"Have you registered to vote yet?\")\n",
    "else:\n",
    "    print(\"Sorry, you are too young to vote.\")\n",
    "    print(\"Please register to vote as soon as you turn 18!\")"
   ]
  },
  {
   "cell_type": "code",
   "execution_count": 56,
   "id": "20915416",
   "metadata": {},
   "outputs": [
    {
     "name": "stdout",
     "output_type": "stream",
     "text": [
      "Your admission cost is $25.\n"
     ]
    }
   ],
   "source": [
    "age = 12\n",
    "if age < 4:\n",
    "    print(\"Your admission cost is $0.\")\n",
    "elif age < 18:\n",
    "    print(\"Your admission cost is $25.\")\n",
    "else:\n",
    "      print(\"Your admission cost is $40.\")"
   ]
  },
  {
   "cell_type": "code",
   "execution_count": 57,
   "id": "e10aae17",
   "metadata": {},
   "outputs": [
    {
     "name": "stdout",
     "output_type": "stream",
     "text": [
      "Adding mushrooms.\n",
      "Adding extra cheese.\n",
      "\n",
      "Finished making your pizza!\n"
     ]
    }
   ],
   "source": [
    "requested_toppings : list[str] = ['mushrooms', 'extra cheese']\n",
    "\n",
    "if 'mushrooms' in requested_toppings:\n",
    "      print(\"Adding mushrooms.\")\n",
    "    \n",
    "if 'pepperoni' in requested_toppings: \n",
    "    print(\"Adding pepperoni.\")\n",
    "    \n",
    "if 'extra cheese' in requested_toppings:\n",
    "    print(\"Adding extra cheese.\")\n",
    "    \n",
    "print(\"\\nFinished making your pizza!\")"
   ]
  },
  {
   "cell_type": "code",
   "execution_count": 58,
   "id": "6478bcaf",
   "metadata": {},
   "outputs": [
    {
     "name": "stdout",
     "output_type": "stream",
     "text": [
      "Adding mushrooms.\n",
      "Sorry, we are out of green peppers right now.\n",
      "Adding extra cheese.\n",
      "\n",
      "Finished making your pizza!\n"
     ]
    }
   ],
   "source": [
    "requested_toppings = ['mushrooms', 'green peppers', 'extra cheese']\n",
    "for requested_topping in requested_toppings:\n",
    "    if requested_topping == 'green peppers':\n",
    "        print(\"Sorry, we are out of green peppers right now.\")\n",
    "    else:\n",
    "        print(f\"Adding {requested_topping}.\")\n",
    "print(\"\\nFinished making your pizza!\")"
   ]
  },
  {
   "cell_type": "code",
   "execution_count": 59,
   "id": "6d5f3e54",
   "metadata": {},
   "outputs": [
    {
     "name": "stdout",
     "output_type": "stream",
     "text": [
      "Are you sure you want a plain pizza?\n"
     ]
    }
   ],
   "source": [
    "requested_toppings = []\n",
    "\n",
    "if requested_toppings:\n",
    "    for requested_topping in requested_toppings:\n",
    "        print(f\"Adding {requested_topping}.\")\n",
    "    print(\"\\nFinished making your pizza!\")\n",
    "else:\n",
    "    print(\"Are you sure you want a plain pizza?\")"
   ]
  },
  {
   "cell_type": "code",
   "execution_count": 60,
   "id": "4466df97",
   "metadata": {},
   "outputs": [
    {
     "name": "stdout",
     "output_type": "stream",
     "text": [
      "Adding mushrooms.\n",
      "Sorry, we don't have french fries.\n",
      "Adding extra cheese.\n",
      "\n",
      "Finished making your pizza!\n"
     ]
    }
   ],
   "source": [
    "available_toppings:list[str] = ['mushrooms', 'olives', 'green peppers',\n",
    "                        'pepperoni', 'pineapple', 'extra cheese']\n",
    "\n",
    "requested_toppings:list[str] = ['mushrooms', 'french fries', 'extra cheese'] # user input\n",
    "\n",
    "for requested_topping in requested_toppings:\n",
    "    if requested_topping in available_toppings:\n",
    "        print(f\"Adding {requested_topping}.\")\n",
    "    else:\n",
    "        print(f\"Sorry, we don't have {requested_topping}.\")\n",
    "print(\"\\nFinished making your pizza!\")"
   ]
  },
  {
   "cell_type": "code",
   "execution_count": 61,
   "id": "fbed2c3c",
   "metadata": {},
   "outputs": [
    {
     "data": {
      "text/plain": [
       "['34', '5', '3']"
      ]
     },
     "execution_count": 61,
     "metadata": {},
     "output_type": "execute_result"
    }
   ],
   "source": [
    "input(\"Enter ',' seprated value for topping\").split(\",\")"
   ]
  },
  {
   "cell_type": "code",
   "execution_count": 65,
   "id": "d06cbe2a",
   "metadata": {},
   "outputs": [
    {
     "name": "stdout",
     "output_type": "stream",
     "text": [
      "Invalid user or password\n"
     ]
    }
   ],
   "source": [
    "user_name : str = input(\"Enter user id: \\t\")\n",
    "user_passwrod : str = input(\"Enter password:\\t\")\n",
    "\n",
    "\n",
    "if user_name == 'admin' and user_passwrod == 'admin':\n",
    "    print(\"sent otp on you registered number\")\n",
    "    otp : str = input(\"Please inter otp\")\n",
    "    if otp == '123':\n",
    "        print(\"Welcom PIAIC\")\n",
    "else:\n",
    "    print(\"Invalid user or password\")"
   ]
  },
  {
   "cell_type": "code",
   "execution_count": null,
   "id": "8e4644bf",
   "metadata": {},
   "outputs": [],
   "source": []
  }
 ],
 "metadata": {
  "kernelspec": {
   "display_name": "Python 3 (ipykernel)",
   "language": "python",
   "name": "python3"
  },
  "language_info": {
   "codemirror_mode": {
    "name": "ipython",
    "version": 3
   },
   "file_extension": ".py",
   "mimetype": "text/x-python",
   "name": "python",
   "nbconvert_exporter": "python",
   "pygments_lexer": "ipython3",
   "version": "3.12.0"
  }
 },
 "nbformat": 4,
 "nbformat_minor": 5
}

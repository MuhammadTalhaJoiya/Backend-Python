{
 "cells": [
  {
   "cell_type": "code",
   "execution_count": 2,
   "id": "e13686c7-218d-42ab-b199-a9830ecb76d0",
   "metadata": {},
   "outputs": [],
   "source": [
    "##if else elif\n",
    "# if(condition):\n",
    "#     body\n",
    "# elif(condition):\n",
    "#     body\n",
    "# else:\n",
    "#     body"
   ]
  },
  {
   "cell_type": "code",
   "execution_count": 9,
   "id": "6eeca22f-559c-487f-be0f-e4a2c3b75858",
   "metadata": {},
   "outputs": [],
   "source": [
    "##comprehensive if else\n",
    "# true if logic else false"
   ]
  },
  {
   "cell_type": "code",
   "execution_count": 10,
   "id": "cd006d08-be39-4a07-afe1-d9c065b7865d",
   "metadata": {},
   "outputs": [
    {
     "name": "stdout",
     "output_type": "stream",
     "text": [
      "Pakistan Zindabad\n"
     ]
    }
   ],
   "source": [
    "if True:\n",
    "    print(\"Pakistan Zindabad\")\n",
    "else:\n",
    "    print(\"Pak Fojj Zindabad\")"
   ]
  },
  {
   "cell_type": "code",
   "execution_count": 11,
   "id": "37f3028c-9a0d-4e7c-934d-8091dd9742d7",
   "metadata": {},
   "outputs": [
    {
     "data": {
      "text/plain": [
       "'Pak Fojj Zindabad'"
      ]
     },
     "execution_count": 11,
     "metadata": {},
     "output_type": "execute_result"
    }
   ],
   "source": [
    "\"Pakistan Zindabad\" if False else \"Pak Fojj Zindabad\""
   ]
  },
  {
   "cell_type": "code",
   "execution_count": 12,
   "id": "a85db74e-93fc-4c87-b8f4-aa71a44d8e07",
   "metadata": {},
   "outputs": [
    {
     "data": {
      "text/plain": [
       "'Pakistan Zindabad'"
      ]
     },
     "execution_count": 12,
     "metadata": {},
     "output_type": "execute_result"
    }
   ],
   "source": [
    "\"Pakistan Zindabad\" if True else \"Pak Fojj Zindabad\""
   ]
  },
  {
   "cell_type": "code",
   "execution_count": null,
   "id": "79263512-9c8a-485c-a6a0-391cfbe6e03b",
   "metadata": {},
   "outputs": [],
   "source": []
  }
 ],
 "metadata": {
  "kernelspec": {
   "display_name": "Python 3 (ipykernel)",
   "language": "python",
   "name": "python3"
  },
  "language_info": {
   "codemirror_mode": {
    "name": "ipython",
    "version": 3
   },
   "file_extension": ".py",
   "mimetype": "text/x-python",
   "name": "python",
   "nbconvert_exporter": "python",
   "pygments_lexer": "ipython3",
   "version": "3.12.0"
  }
 },
 "nbformat": 4,
 "nbformat_minor": 5
}

{
 "cells": [
  {
   "cell_type": "code",
   "execution_count": 2,
   "metadata": {},
   "outputs": [
    {
     "name": "stdout",
     "output_type": "stream",
     "text": [
      "Muhammad Talha\n"
     ]
    }
   ],
   "source": [
    "print(\"Muhammad Talha\")"
   ]
  },
  {
   "cell_type": "code",
   "execution_count": 3,
   "metadata": {},
   "outputs": [],
   "source": [
    "name:str = \"Muhammad Talha\"\n",
    "father_name:str = \" Abdul Rehman\""
   ]
  },
  {
   "cell_type": "code",
   "execution_count": 4,
   "metadata": {},
   "outputs": [
    {
     "name": "stdout",
     "output_type": "stream",
     "text": [
      "Muhammad Talha Abdul Rehman\n"
     ]
    }
   ],
   "source": [
    "#Concatenation\n",
    "# In concatenation datatype should be same while concatination\n",
    "print(name + father_name)"
   ]
  },
  {
   "cell_type": "code",
   "execution_count": 5,
   "metadata": {},
   "outputs": [
    {
     "name": "stdout",
     "output_type": "stream",
     "text": [
      " Muhammad Talha\n",
      "Abdul Rehman\n",
      "PIAIC\n"
     ]
    }
   ],
   "source": [
    "# Multiline string\n",
    "print(\"\"\" Muhammad Talha\n",
    "Abdul Rehman\n",
    "PIAIC\"\"\")"
   ]
  },
  {
   "cell_type": "code",
   "execution_count": 9,
   "metadata": {},
   "outputs": [
    {
     "name": "stdout",
     "output_type": "stream",
     "text": [
      " name:Muhammad Talha\n",
      "fathername: Abdul Rehman\n",
      "\n",
      "my name is Muhammad Talha\n",
      "my father name is  Abdul Rehman\n",
      "\n"
     ]
    }
   ],
   "source": [
    "# fstring methods\n",
    "#method1\n",
    "print(f\"\"\" name:{name}\n",
    "fathername:{father_name}\"\"\")\n",
    "# method2\n",
    "print(\"\"\"\n",
    "my name is {a}\n",
    "my father name is {b}\n",
    "\"\"\".format(a=name,b=father_name))"
   ]
  },
  {
   "cell_type": "code",
   "execution_count": 10,
   "metadata": {},
   "outputs": [
    {
     "name": "stdout",
     "output_type": "stream",
     "text": [
      "my name is Muhammad Talha\n"
     ]
    }
   ],
   "source": [
    "print(\"my name is {a}\".format(a=name))"
   ]
  },
  {
   "cell_type": "code",
   "execution_count": 30,
   "metadata": {},
   "outputs": [
    {
     "data": {
      "text/plain": [
       "'      Muhammad Talha     '"
      ]
     },
     "metadata": {},
     "output_type": "display_data"
    },
    {
     "data": {
      "text/plain": [
       "'      muhammad talha     '"
      ]
     },
     "metadata": {},
     "output_type": "display_data"
    },
    {
     "data": {
      "text/plain": [
       "'      Muhammad Talha     '"
      ]
     },
     "metadata": {},
     "output_type": "display_data"
    },
    {
     "data": {
      "text/plain": [
       "'      MUHAMMAD TALHA     '"
      ]
     },
     "metadata": {},
     "output_type": "display_data"
    },
    {
     "data": {
      "text/plain": [
       "'      muhammad talha     '"
      ]
     },
     "metadata": {},
     "output_type": "display_data"
    },
    {
     "data": {
      "text/plain": [
       "'Muhammad Talha'"
      ]
     },
     "metadata": {},
     "output_type": "display_data"
    }
   ],
   "source": [
    "name2:str=\"      Muhammad Talha     \"\n",
    "display(name2)\n",
    "# display(name2.lstrip())\n",
    "# display(name2.rstrip())\n",
    "display(name2.capitalize())\n",
    "# capitalize the letter of every words\n",
    "display(name2.title())  \n",
    "display(name2.upper())\n",
    "display(name2.lower())\n",
    "display(name2.strip())"
   ]
  },
  {
   "cell_type": "markdown",
   "metadata": {},
   "source": []
  },
  {
   "cell_type": "code",
   "execution_count": 34,
   "metadata": {},
   "outputs": [
    {
     "data": {
      "text/plain": [
       "'        Muhammad             Ali            '"
      ]
     },
     "metadata": {},
     "output_type": "display_data"
    },
    {
     "data": {
      "text/plain": [
       "' Muhammad Ali '"
      ]
     },
     "metadata": {},
     "output_type": "display_data"
    },
    {
     "data": {
      "text/plain": [
       "'Muhammad Ali'"
      ]
     },
     "metadata": {},
     "output_type": "display_data"
    }
   ],
   "source": [
    "import re\n",
    "name3:str=\"        Muhammad             Ali            \"\n",
    "display(name3)\n",
    "strdata:str=re.sub(\" {2,100}\",\" \",name3)\n",
    "display(strdata)\n",
    "display(strdata.strip())"
   ]
  },
  {
   "cell_type": "code",
   "execution_count": 35,
   "metadata": {},
   "outputs": [
    {
     "data": {
      "text/plain": [
       "'localhost:3000'"
      ]
     },
     "metadata": {},
     "output_type": "display_data"
    }
   ],
   "source": [
    "url:str=\"http://localhost:3000\"\n",
    "display(url.removeprefix(\"http://\"))"
   ]
  },
  {
   "cell_type": "code",
   "execution_count": null,
   "metadata": {},
   "outputs": [],
   "source": []
  }
 ],
 "metadata": {
  "kernelspec": {
   "display_name": "python12",
   "language": "python",
   "name": "python3"
  },
  "language_info": {
   "codemirror_mode": {
    "name": "ipython",
    "version": 3
   },
   "file_extension": ".py",
   "mimetype": "text/x-python",
   "name": "python",
   "nbconvert_exporter": "python",
   "pygments_lexer": "ipython3",
   "version": "3.12.0"
  }
 },
 "nbformat": 4,
 "nbformat_minor": 2
}
